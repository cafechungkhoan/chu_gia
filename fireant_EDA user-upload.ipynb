{
 "cells": [
  {
   "cell_type": "markdown",
   "metadata": {},
   "source": [
    "### Fireant có total 230k comment"
   ]
  },
  {
   "cell_type": "code",
   "execution_count": 25,
   "metadata": {},
   "outputs": [
    {
     "name": "stdout",
     "output_type": "stream",
     "text": [
      "<class 'pandas.core.frame.DataFrame'>\n",
      "RangeIndex: 229676 entries, 0 to 229675\n",
      "Data columns (total 9 columns):\n",
      " #   Column           Non-Null Count   Dtype \n",
      "---  ------           --------------   ----- \n",
      " 0   originalContent  229676 non-null  object\n",
      " 1   date             229676 non-null  object\n",
      " 2   link             10046 non-null   object\n",
      " 3   sentiment        229676 non-null  int64 \n",
      " 4   totalLikes       229676 non-null  int64 \n",
      " 5   totalReplies     229676 non-null  int64 \n",
      " 6   totalShares      229676 non-null  int64 \n",
      " 7   taggedSymbols    229676 non-null  object\n",
      " 8   user.name        229676 non-null  object\n",
      "dtypes: int64(4), object(5)\n",
      "memory usage: 15.8+ MB\n"
     ]
    }
   ],
   "source": [
    "df.info()"
   ]
  },
  {
   "cell_type": "markdown",
   "metadata": {},
   "source": [
    "### Fireant có 15863 user (file sort cmt từ cao xuống thấp)"
   ]
  },
  {
   "cell_type": "code",
   "execution_count": 83,
   "metadata": {},
   "outputs": [
    {
     "data": {
      "text/html": [
       "<div>\n",
       "<style scoped>\n",
       "    .dataframe tbody tr th:only-of-type {\n",
       "        vertical-align: middle;\n",
       "    }\n",
       "\n",
       "    .dataframe tbody tr th {\n",
       "        vertical-align: top;\n",
       "    }\n",
       "\n",
       "    .dataframe thead th {\n",
       "        text-align: right;\n",
       "    }\n",
       "</style>\n",
       "<table border=\"1\" class=\"dataframe\">\n",
       "  <thead>\n",
       "    <tr style=\"text-align: right;\">\n",
       "      <th></th>\n",
       "      <th>user.name</th>\n",
       "      <th>originalContent</th>\n",
       "      <th>date</th>\n",
       "      <th>link</th>\n",
       "      <th>sentiment</th>\n",
       "      <th>totalLikes</th>\n",
       "      <th>totalReplies</th>\n",
       "      <th>totalShares</th>\n",
       "      <th>taggedSymbols</th>\n",
       "    </tr>\n",
       "  </thead>\n",
       "  <tbody>\n",
       "    <tr>\n",
       "      <th>0</th>\n",
       "      <td>Luu Quan An</td>\n",
       "      <td>1836</td>\n",
       "      <td>1836</td>\n",
       "      <td>1</td>\n",
       "      <td>1836</td>\n",
       "      <td>1836</td>\n",
       "      <td>1836</td>\n",
       "      <td>1836</td>\n",
       "      <td>1836</td>\n",
       "    </tr>\n",
       "    <tr>\n",
       "      <th>1</th>\n",
       "      <td>Ẩn Danh</td>\n",
       "      <td>799</td>\n",
       "      <td>799</td>\n",
       "      <td>19</td>\n",
       "      <td>799</td>\n",
       "      <td>799</td>\n",
       "      <td>799</td>\n",
       "      <td>799</td>\n",
       "      <td>799</td>\n",
       "    </tr>\n",
       "    <tr>\n",
       "      <th>2</th>\n",
       "      <td>Ông già Nô-en</td>\n",
       "      <td>776</td>\n",
       "      <td>776</td>\n",
       "      <td>239</td>\n",
       "      <td>776</td>\n",
       "      <td>776</td>\n",
       "      <td>776</td>\n",
       "      <td>776</td>\n",
       "      <td>776</td>\n",
       "    </tr>\n",
       "    <tr>\n",
       "      <th>3</th>\n",
       "      <td>Chương Nguyễn</td>\n",
       "      <td>769</td>\n",
       "      <td>769</td>\n",
       "      <td>1</td>\n",
       "      <td>769</td>\n",
       "      <td>769</td>\n",
       "      <td>769</td>\n",
       "      <td>769</td>\n",
       "      <td>769</td>\n",
       "    </tr>\n",
       "    <tr>\n",
       "      <th>4</th>\n",
       "      <td>Đỗ Minh Ý</td>\n",
       "      <td>741</td>\n",
       "      <td>741</td>\n",
       "      <td>2</td>\n",
       "      <td>741</td>\n",
       "      <td>741</td>\n",
       "      <td>741</td>\n",
       "      <td>741</td>\n",
       "      <td>741</td>\n",
       "    </tr>\n",
       "    <tr>\n",
       "      <th>...</th>\n",
       "      <td>...</td>\n",
       "      <td>...</td>\n",
       "      <td>...</td>\n",
       "      <td>...</td>\n",
       "      <td>...</td>\n",
       "      <td>...</td>\n",
       "      <td>...</td>\n",
       "      <td>...</td>\n",
       "      <td>...</td>\n",
       "    </tr>\n",
       "    <tr>\n",
       "      <th>15858</th>\n",
       "      <td>Tình Anh Hai Lúa</td>\n",
       "      <td>1</td>\n",
       "      <td>1</td>\n",
       "      <td>0</td>\n",
       "      <td>1</td>\n",
       "      <td>1</td>\n",
       "      <td>1</td>\n",
       "      <td>1</td>\n",
       "      <td>1</td>\n",
       "    </tr>\n",
       "    <tr>\n",
       "      <th>15859</th>\n",
       "      <td>Hailua035</td>\n",
       "      <td>1</td>\n",
       "      <td>1</td>\n",
       "      <td>0</td>\n",
       "      <td>1</td>\n",
       "      <td>1</td>\n",
       "      <td>1</td>\n",
       "      <td>1</td>\n",
       "      <td>1</td>\n",
       "    </tr>\n",
       "    <tr>\n",
       "      <th>15860</th>\n",
       "      <td>Martin Nguyen</td>\n",
       "      <td>1</td>\n",
       "      <td>1</td>\n",
       "      <td>0</td>\n",
       "      <td>1</td>\n",
       "      <td>1</td>\n",
       "      <td>1</td>\n",
       "      <td>1</td>\n",
       "      <td>1</td>\n",
       "    </tr>\n",
       "    <tr>\n",
       "      <th>15861</th>\n",
       "      <td>Tèo Trần</td>\n",
       "      <td>1</td>\n",
       "      <td>1</td>\n",
       "      <td>0</td>\n",
       "      <td>1</td>\n",
       "      <td>1</td>\n",
       "      <td>1</td>\n",
       "      <td>1</td>\n",
       "      <td>1</td>\n",
       "    </tr>\n",
       "    <tr>\n",
       "      <th>15862</th>\n",
       "      <td>Nhan Le</td>\n",
       "      <td>1</td>\n",
       "      <td>1</td>\n",
       "      <td>0</td>\n",
       "      <td>1</td>\n",
       "      <td>1</td>\n",
       "      <td>1</td>\n",
       "      <td>1</td>\n",
       "      <td>1</td>\n",
       "    </tr>\n",
       "  </tbody>\n",
       "</table>\n",
       "<p>15863 rows × 9 columns</p>\n",
       "</div>"
      ],
      "text/plain": [
       "              user.name  originalContent  date  link  sentiment  totalLikes  \\\n",
       "0           Luu Quan An             1836  1836     1       1836        1836   \n",
       "1               Ẩn Danh              799   799    19        799         799   \n",
       "2         Ông già Nô-en              776   776   239        776         776   \n",
       "3         Chương Nguyễn              769   769     1        769         769   \n",
       "4             Đỗ Minh Ý              741   741     2        741         741   \n",
       "...                 ...              ...   ...   ...        ...         ...   \n",
       "15858  Tình Anh Hai Lúa                1     1     0          1           1   \n",
       "15859         Hailua035                1     1     0          1           1   \n",
       "15860     Martin Nguyen                1     1     0          1           1   \n",
       "15861          Tèo Trần                1     1     0          1           1   \n",
       "15862           Nhan Le                1     1     0          1           1   \n",
       "\n",
       "       totalReplies  totalShares  taggedSymbols  \n",
       "0              1836         1836           1836  \n",
       "1               799          799            799  \n",
       "2               776          776            776  \n",
       "3               769          769            769  \n",
       "4               741          741            741  \n",
       "...             ...          ...            ...  \n",
       "15858             1            1              1  \n",
       "15859             1            1              1  \n",
       "15860             1            1              1  \n",
       "15861             1            1              1  \n",
       "15862             1            1              1  \n",
       "\n",
       "[15863 rows x 9 columns]"
      ]
     },
     "execution_count": 83,
     "metadata": {},
     "output_type": "execute_result"
    }
   ],
   "source": [
    "b = df.groupby('user.name').count().sort_values(by='originalContent', ascending=False)\n",
    "b = b.reset_index()\n",
    "b"
   ]
  },
  {
   "cell_type": "markdown",
   "metadata": {},
   "source": [
    "### Fireant có 25k row đã gắn nhãn, 200k row chưa gắn nhãn"
   ]
  },
  {
   "cell_type": "code",
   "execution_count": 84,
   "metadata": {},
   "outputs": [
    {
     "data": {
      "text/plain": [
       "<matplotlib.axes._subplots.AxesSubplot at 0x21fd1824d48>"
      ]
     },
     "execution_count": 84,
     "metadata": {},
     "output_type": "execute_result"
    },
    {
     "data": {
      "image/png": "[encoded data removed]",
      "text/plain": [
       "<Figure size 360x360 with 1 Axes>"
      ]
     },
     "metadata": {
      "needs_background": "light"
     },
     "output_type": "display_data"
    }
   ],
   "source": [
    "a = df.groupby('sentiment').count().sort_values(by='originalContent', ascending=False)\n",
    "a = a.reset_index()\n",
    "import seaborn as sns\n",
    "import matplotlib.pyplot as plt\n",
    "plt.figure(figsize = (5,5))\n",
    "sns.barplot(x=\"sentiment\", y=\"originalContent\",data=a)"
   ]
  },
  {
   "cell_type": "markdown",
   "metadata": {},
   "source": [
    "### cộng đồng Fireant hoạt động mạnh từ 2020 (số lượng cmt tăng từ gần như 0 lên 3000 cmt / ngày)"
   ]
  },
  {
   "cell_type": "code",
   "execution_count": 67,
   "metadata": {},
   "outputs": [
    {
     "data": {
      "text/plain": [
       "<matplotlib.axes._subplots.AxesSubplot at 0x21fd0f2b508>"
      ]
     },
     "execution_count": 67,
     "metadata": {},
     "output_type": "execute_result"
    },
    {
     "data": {
      "image/png": "[encoded data removed]",
      "text/plain": [
       "<Figure size 864x504 with 1 Axes>"
      ]
     },
     "metadata": {
      "needs_background": "light"
     },
     "output_type": "display_data"
    }
   ],
   "source": [
    "df1 = df\n",
    "df1['date'] = pd.to_datetime(df1['date'])\n",
    "df1 = df1.groupby('date').count().sort_values(by='date', ascending=False)\n",
    "df1 = df1.reset_index()\n",
    "df1['số lượng cmt theo thời gian'] = df1['originalContent']\n",
    "df1 = df1.drop(['originalContent','link','sentiment','totalLikes','totalReplies','totalShares','taggedSymbols','user.name'],axis = 1)\n",
    "import seaborn as sns\n",
    "import matplotlib.pyplot as plt\n",
    "plt.figure(figsize = (12,7))\n",
    "sns.lineplot(x=\"date\", y=\"số lượng cmt theo thời gian\",data=df1)"
   ]
  },
  {
   "cell_type": "markdown",
   "metadata": {},
   "source": [
    "### Top 20 KOL trên Fireant (tính bằng cách đếm total like của từng user)"
   ]
  },
  {
   "cell_type": "code",
   "execution_count": 75,
   "metadata": {},
   "outputs": [
    {
     "data": {
      "text/html": [
       "<div>\n",
       "<style scoped>\n",
       "    .dataframe tbody tr th:only-of-type {\n",
       "        vertical-align: middle;\n",
       "    }\n",
       "\n",
       "    .dataframe tbody tr th {\n",
       "        vertical-align: top;\n",
       "    }\n",
       "\n",
       "    .dataframe thead th {\n",
       "        text-align: right;\n",
       "    }\n",
       "</style>\n",
       "<table border=\"1\" class=\"dataframe\">\n",
       "  <thead>\n",
       "    <tr style=\"text-align: right;\">\n",
       "      <th></th>\n",
       "      <th>totalLikes</th>\n",
       "    </tr>\n",
       "    <tr>\n",
       "      <th>user.name</th>\n",
       "      <th></th>\n",
       "    </tr>\n",
       "  </thead>\n",
       "  <tbody>\n",
       "    <tr>\n",
       "      <th>Tùng Nguyễn</th>\n",
       "      <td>10838</td>\n",
       "    </tr>\n",
       "    <tr>\n",
       "      <th>Mắt Diều Hâu</th>\n",
       "      <td>10725</td>\n",
       "    </tr>\n",
       "    <tr>\n",
       "      <th>F3️⃣1️⃣9️⃣</th>\n",
       "      <td>9067</td>\n",
       "    </tr>\n",
       "    <tr>\n",
       "      <th>Trangnt2</th>\n",
       "      <td>8210</td>\n",
       "    </tr>\n",
       "    <tr>\n",
       "      <th>OMNIS</th>\n",
       "      <td>7470</td>\n",
       "    </tr>\n",
       "    <tr>\n",
       "      <th>George Soros - GSFC</th>\n",
       "      <td>6628</td>\n",
       "    </tr>\n",
       "    <tr>\n",
       "      <th>Swing Trader</th>\n",
       "      <td>5474</td>\n",
       "    </tr>\n",
       "    <tr>\n",
       "      <th>Luu Quan An</th>\n",
       "      <td>4569</td>\n",
       "    </tr>\n",
       "    <tr>\n",
       "      <th>Deal Cafe</th>\n",
       "      <td>4082</td>\n",
       "    </tr>\n",
       "    <tr>\n",
       "      <th>Ẩn Danh</th>\n",
       "      <td>3902</td>\n",
       "    </tr>\n",
       "    <tr>\n",
       "      <th>CK_TS</th>\n",
       "      <td>3771</td>\n",
       "    </tr>\n",
       "    <tr>\n",
       "      <th>VuQuy</th>\n",
       "      <td>3615</td>\n",
       "    </tr>\n",
       "    <tr>\n",
       "      <th>Elon Tô</th>\n",
       "      <td>2827</td>\n",
       "    </tr>\n",
       "    <tr>\n",
       "      <th>( SĂN CỔ ) LƯỚT SÓNG</th>\n",
       "      <td>2633</td>\n",
       "    </tr>\n",
       "    <tr>\n",
       "      <th>Hanna</th>\n",
       "      <td>2325</td>\n",
       "    </tr>\n",
       "    <tr>\n",
       "      <th>Kazan</th>\n",
       "      <td>2314</td>\n",
       "    </tr>\n",
       "    <tr>\n",
       "      <th>F0 Lạc Quan</th>\n",
       "      <td>2267</td>\n",
       "    </tr>\n",
       "    <tr>\n",
       "      <th>Legendary Bear</th>\n",
       "      <td>2178</td>\n",
       "    </tr>\n",
       "    <tr>\n",
       "      <th>Thiên tài</th>\n",
       "      <td>2100</td>\n",
       "    </tr>\n",
       "    <tr>\n",
       "      <th>Real Guy</th>\n",
       "      <td>2075</td>\n",
       "    </tr>\n",
       "  </tbody>\n",
       "</table>\n",
       "</div>"
      ],
      "text/plain": [
       "                      totalLikes\n",
       "user.name                       \n",
       "Tùng Nguyễn                10838\n",
       "Mắt Diều Hâu               10725\n",
       "F3️⃣1️⃣9️⃣                  9067\n",
       "Trangnt2                    8210\n",
       "OMNIS                       7470\n",
       "George Soros - GSFC         6628\n",
       "Swing Trader                5474\n",
       "Luu Quan An                 4569\n",
       "Deal Cafe                   4082\n",
       "Ẩn Danh                     3902\n",
       "CK_TS                       3771\n",
       "VuQuy                       3615\n",
       "Elon Tô                     2827\n",
       "( SĂN CỔ ) LƯỚT SÓNG        2633\n",
       "Hanna                       2325\n",
       "Kazan                       2314\n",
       "F0 Lạc Quan                 2267\n",
       "Legendary Bear              2178\n",
       "Thiên tài                   2100\n",
       "Real Guy                    2075"
      ]
     },
     "execution_count": 75,
     "metadata": {},
     "output_type": "execute_result"
    }
   ],
   "source": [
    "df2 = df\n",
    "df2 = df2.drop(['originalContent','date','link','sentiment','totalReplies','totalShares','taggedSymbols'],axis = 1)\n",
    "df2.groupby('user.name').sum().sort_values(by='totalLikes', ascending=False).head(20)"
   ]
  }
 ],
 "metadata": {
  "kernelspec": {
   "display_name": "Python 3",
   "language": "python",
   "name": "python3"
  },
  "language_info": {
   "codemirror_mode": {
    "name": "ipython",
    "version": 3
   },
   "file_extension": ".py",
   "mimetype": "text/x-python",
   "name": "python",
   "nbconvert_exporter": "python",
   "pygments_lexer": "ipython3",
   "version": "3.7.4"
  }
 },
 "nbformat": 4,
 "nbformat_minor": 4
}
