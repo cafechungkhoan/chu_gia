{
 "cells": [
  {
   "cell_type": "markdown",
   "metadata": {},
   "source": [
    "## Algo Trading là gì? Ứng dụng Algo Trading trong phân tích tâm lí thị trường"
   ]
  },
  {
   "cell_type": "markdown",
   "metadata": {},
   "source": [
    "*Các khái niệm về <strong>Algo Trading (giao dịch thuật toán)</strong> và <strong>Quantitative Trading (giao dịch định lượng)</strong> đã rất phát triển trên thế giới. Nhưng, các khái niệm này lại còn khá mới ở Việt Nam.\n",
    "Bài viết này nói về một khía cạnh nhỏ của Algo Trading và áp dụng một thư viện phổ thông trên thế giới vào dự báo đầu tư.*"
   ]
  },
  {
   "cell_type": "markdown",
   "metadata": {},
   "source": [
    "<strong>Giao dịch thuật toán ([Algorithmic Trading](https://en.wikipedia.org/wiki/Algorithmic_trading))</strong> là qui trình áp dụng các thuật toán Machine Learning để thiết lập các giao dịch tự động hoặc đưa ra khuyến nghị giao dịch. (trước trước khi Machine Learning trở nên mạnh mẽ, Algo trading định nghĩa là áp dụng chuỗi các quy tắc tự động trong đầu tư) \n",
    "\n",
    "Trong thế kỷ 21, giao dịch thuật toán (Algorithmic Trading) thu hút được sự quan tâm chung của cả trader khối bán lẻ lẫn tổ chức. Nó được sử dụng rộng rãi bởi các ngân hàng đầu tư, quỹ hưu trí, quỹ tương hỗ và quỹ đầu cơ. Algorithmic Trading có thể thực hiện một lệnh lớn hơn hoặc thực hiện các giao dịch nhanh đến mức con người không kịp phản ứng. \n",
    "\n",
    "Một nghiên cứu vào năm 2019 cho thấy khoảng 92% giao dịch trên thị trường Forex được thực hiện bởi các thuật toán giao dịch chứ không phải con người. (Source: Wikipedia [Algorithmic Trading](https://en.wikipedia.org/wiki/Algorithmic_trading))"
   ]
  },
  {
   "cell_type": "markdown",
   "metadata": {},
   "source": [
    "#### Biểu đồ gia tăng khối lượng giao dịch bằng Algo Trading trên thị trường"
   ]
  },
  {
   "cell_type": "code",
   "execution_count": 15,
   "metadata": {},
   "outputs": [
    {
     "data": {
      "image/png": "[encoded data removed]",
      "text/plain": [
       "<IPython.core.display.Image object>"
      ]
     },
     "execution_count": 15,
     "metadata": {},
     "output_type": "execute_result"
    }
   ],
   "source": [
    "import IPython\n",
    "url = 'https://upload.wikimedia.org/wikipedia/commons/5/51/Algorithmic_Trading._Percentage_of_Market_Volume.png'\n",
    "IPython.display.Image(url)"
   ]
  },
  {
   "cell_type": "markdown",
   "metadata": {},
   "source": [
    "#### Nền tảng bài viết dựa trên áp dụng thư viện VADER vào Sentiment Analysis\n",
    "\n",
    "<strong>Ý tưởng của bài viết là gì? </strong>\n",
    "\n",
    "Ý tưởng: Crawling tin tức liên quan đến đầu tư Vàng trên một trang tổng hợp các nguồn báo, sau đó áp dụng thư viện `VADER` được tích hợp sẵn trong toolkit xử lí ngôn ngữ tự nhiên `nltk` để dự báo tâm lí thị trường lên giá Vàng.\n",
    "\n",
    "<strong>Sentiment Analysis là gì? </strong>\n",
    "\n",
    "Sentiment Analysis là quá trình 'tính toán' xác định xem nội dung bài viết là tích cực, tiêu cực hay trung lập.\n",
    "\n",
    "Trong kinh doanh: Các công ty sử dụng nó để tìm hiều thái độ mọi người phản ứng với các chiến dịch hoặc buổi ra mắt sản phẩm của họ và tại sao người tiêu dùng không mua một số sản phẩm. (như phân tích cảm xúc trong bình luận mua hàng trên `TIKI` chẳng hạn)\n",
    "\n",
    "Trong lĩnh vực chính trị: nó được sử dụng để theo dõi quan điểm chính trị, để phát hiện sự nhất quán và không nhất quán giữa các tuyên bố và hành động ở cấp chính phủ. Nó cũng có thể được sử dụng để dự đoán kết quả bầu cử! .\n",
    "\n",
    "Trong khuôn khổ bài viết này sẽ giới thiệu Sentiment Analysis ứng dụng trong phân tích cảm xúc tin tức & ứng dụng vào đầu tư.\n",
    "\n",
    "<strong>Thư viện `VADER` là gì? </strong>\n",
    "\n",
    "Đọc thêm về VADER Sentiment Analysis: https://blog.quantinsti.com/vader-sentiment/\n",
    "\n",
    "VADER (Valence Aware Dictionary and sEntiment Reasoner) là một thuật toán phân tích trạng thái cảm xúc thể hiện trên nội dung bài viết. Vader có mã nguồn mở theo MIT License.\n",
    "\n",
    "<strong>Vì sao không áp dụng lên chứng khoán Việt Nam, cụ thể một mã cổ phiếu nào đó? </strong>\n",
    "\n",
    "Bởi vì thư viện VADER được train trên dữ liệu tiếng anh, nếu muốn build công cụ tương tự phải thiết lập lại Sentiment Analysis cho các tin tức tiếng việt. Hi vọng sẽ trình bày trong một bài viết khác\n",
    "\n",
    "<strong>Quy trình thực hiện như thế nào? </strong>\n",
    "\n",
    "1. Crawling dữ liệu bằng thư viện phổ thông `BeautifulSoup` \n",
    "2. Trích xuất thông tin\n",
    "3. applied VADER\n",
    "\n",
    "<strong>Sử dụng nguồn data nào trong bài viết? </strong>\n",
    "\n",
    "Nguồn data dùng trong bài viết: https://finviz.com/\n",
    "\n",
    "FINVIZ là một platform tổng hợp thông tin thị trường chứng khoán thế giới, khá tương đồng các platform như FinTrade tại Việt Nam. Platform cung cấp các data cổ phiếu , ngoại hối và hợp đồng tương lai như: tin tức, các công cụ trực quan biểu đồ, theo dõi danh mục đầu tư, và các loại tool filter khác ..."
   ]
  },
  {
   "cell_type": "markdown",
   "metadata": {},
   "source": [
    "### PHASE 1: Crawling dữ liệu tin tức"
   ]
  },
  {
   "cell_type": "code",
   "execution_count": 1,
   "metadata": {},
   "outputs": [],
   "source": [
    "from urllib.request import urlopen, Request\n",
    "from bs4 import BeautifulSoup\n",
    "import os\n",
    "import pandas as pd\n",
    "import matplotlib.pyplot as plt\n",
    "%matplotlib inline\n",
    "from nltk.sentiment.vader import SentimentIntensityAnalyzer\n",
    "finwiz_url = 'https://finviz.com/quote.ashx?t='"
   ]
  },
  {
   "cell_type": "code",
   "execution_count": 2,
   "metadata": {},
   "outputs": [],
   "source": [
    "news_tables = {}\n",
    "tickers = ['GOLD']\n",
    "for ticker in tickers:\n",
    "    url = finwiz_url + ticker\n",
    "    req = Request(url=url,headers={'user-agent': 'my-app/0.0.1'}) \n",
    "    response = urlopen(req) \n",
    "    html = BeautifulSoup(response)\n",
    "    news_table = html.find(id='news-table')\n",
    "    news_tables[ticker] = news_table"
   ]
  },
  {
   "cell_type": "code",
   "execution_count": 3,
   "metadata": {},
   "outputs": [
    {
     "name": "stdout",
     "output_type": "stream",
     "text": [
      "Dec-13-20 01:08AM    -  How Much Of Barrick Gold Corporation (TSE:ABX) Do Institutions Own?\n",
      "Dec-08-20 01:43PM    -  Gold Price Pans For A Bottom As Coronavirus Vaccines Near, But This Is Key\n",
      "Dec-07-20 10:40PM    -  Why Shares of Barrick Gold Plunged 13% in November\n",
      "10:49AM    -  Is Barrick (GOLD) A Good Stock To Buy Now?\n",
      "Dec-05-20 11:32AM    -  Why Is Barrick Gold (GOLD) Down 19.9% Since Last Earnings Report?\n",
      "Dec-03-20 12:11AM    -  12 Best Silver Stocks to Buy Now\n",
      "Dec-01-20 12:44PM    -  A death cross is slowly forming in gold prices, even as futures rise Tuesday\n",
      "08:41AM    -  Rising Gold Prices Aid Royal Gold (RGLD) Amid Coronavirus Woes\n",
      "Nov-30-20 01:51PM    -  Loncor Reports Multiple Gold Intercepts in First Hole at its Flagship Adumbi Deposit\n",
      "Nov-27-20 02:42PM    -  3 Dividend Gold Stocks\n",
      "Nov-26-20 10:00AM    -  Barrick listed again in Dow Jones Sustainability Index\n",
      "Nov-25-20 03:59PM    -  Gold prices snap 2-session skid on Thanksgiving eve, but head for weekly loss\n",
      "Nov-24-20 08:37AM    -  PPG Industries' (PPG) Brand Introduces Anti-Bacterial Paint\n",
      "08:36AM    -  Eastman (EMN) Teams With Gruppo Maip for Automotive Materials\n",
      "07:57AM    -  Gold prices tumble further,  on the verge of breaking below 200-day moving average\n",
      "05:48AM    -  Celanese (CE) Up 57% in 6 Months: What's Driving the Stock?\n",
      "Nov-23-20 02:33PM    -  Gold prices fall by the most in 2 weeks as vaccine progress slams precious metals\n",
      "08:30AM    -  Loncor Provides Exploration Update on Barrick Joint Venture\n",
      "Nov-20-20 03:00PM    -  5 Warren Buffett Stocks To Buy For Under $25\n",
      "08:45AM    -  Barrick Gold, Hyatt Hotels, L Brands, Halliburton Co and Workday highlighted as Zacks Bull and Bear of the Day\n",
      "08:44AM    -  Celanese (CE) Unveils POM ECO-B to Support Renewable Content\n",
      "07:23AM    -  What Makes Koppers (KOP) a Solid Investment Option Right Now\n",
      "06:36AM    -  Bull of the Day: Barrick Gold (GOLD)\n",
      "Nov-19-20 09:05AM    -  Univar (UNVR) to Distribute Evergrain's Plant-Based Portfolio\n",
      "09:02AM    -  Mosaic (MOS) Declares October Sales Volumes & Revenues\n",
      "08:36AM    -  Gold Miner ETFs Discover Key Chart Support\n",
      "08:10AM    -  GrowGeneration (GRWG) Hits 52-Week High, Can the Run Continue?\n",
      "07:44AM    -  Quaker Chemical (KWR) Stock Up 29% in 3 Months: Here's Why\n",
      "07:15AM    -  Shopify, Barrick Join Exclusive Canada Club With Big Cash Hoards\n",
      "Nov-18-20 09:44AM    -  Cabot (CBT) Introduces New Black Masterbatch Formulation\n",
      "09:36AM    -  Nucor (NUE) Inks Deal in Texas for Sustainable Production\n"
     ]
    }
   ],
   "source": [
    "amzn = news_tables['GOLD']\n",
    "amzn_tr = amzn.findAll('tr')\n",
    "for i, table_row in enumerate(amzn_tr):\n",
    "    a_text = table_row.a.text\n",
    "    td_text = table_row.td.text\n",
    "    print(td_text,' - ',a_text)\n",
    "    if i == 30:\n",
    "        break"
   ]
  },
  {
   "cell_type": "markdown",
   "metadata": {},
   "source": [
    "### PHASE 2: Tách thời gian & content"
   ]
  },
  {
   "cell_type": "code",
   "execution_count": 4,
   "metadata": {},
   "outputs": [],
   "source": [
    "parsed_news = []\n",
    "for file_name, news_table in news_tables.items():\n",
    "    for x in news_table.findAll('tr'):\n",
    "        text = x.a.get_text() \n",
    "        date_scrape = x.td.text.split()\n",
    "        if len(date_scrape) == 1:\n",
    "            time = date_scrape[0] \n",
    "        else:\n",
    "            date = date_scrape[0]\n",
    "            time = date_scrape[1]\n",
    "        ticker = file_name.split('_')[0]\n",
    "        parsed_news.append([ticker, date, time, text])  "
   ]
  },
  {
   "cell_type": "code",
   "execution_count": 5,
   "metadata": {},
   "outputs": [
    {
     "name": "stderr",
     "output_type": "stream",
     "text": [
      "[nltk_data] Downloading package vader_lexicon to C:\\Users\\Hieu\n",
      "[nltk_data]     Le\\AppData\\Roaming\\nltk_data...\n",
      "[nltk_data]   Package vader_lexicon is already up-to-date!\n"
     ]
    },
    {
     "data": {
      "text/plain": [
       "True"
      ]
     },
     "execution_count": 5,
     "metadata": {},
     "output_type": "execute_result"
    }
   ],
   "source": [
    "import nltk\n",
    "nltk.download('vader_lexicon')"
   ]
  },
  {
   "cell_type": "markdown",
   "metadata": {},
   "source": [
    "### PHASE 3: Applied thư viện VADER\n",
    "\n",
    "The VADER library có 4 feature được giải thích như sau:\n",
    "1. `pos`: Xác xuất tích cực của thị trường (positive)\n",
    "2. `neu`: Xác xuất trung tính của thị trường (neutral)\n",
    "3. `neg`: Xác xuất tiêu cực của thị trường (negative)\n",
    "4. `compound`: Chuẩn hóa điểm kết hợp của pos - neg - neu, có thang điểm từ -1 đến 1"
   ]
  },
  {
   "cell_type": "code",
   "execution_count": 6,
   "metadata": {},
   "outputs": [
    {
     "data": {
      "text/html": [
       "<div>\n",
       "<style scoped>\n",
       "    .dataframe tbody tr th:only-of-type {\n",
       "        vertical-align: middle;\n",
       "    }\n",
       "\n",
       "    .dataframe tbody tr th {\n",
       "        vertical-align: top;\n",
       "    }\n",
       "\n",
       "    .dataframe thead th {\n",
       "        text-align: right;\n",
       "    }\n",
       "</style>\n",
       "<table border=\"1\" class=\"dataframe\">\n",
       "  <thead>\n",
       "    <tr style=\"text-align: right;\">\n",
       "      <th></th>\n",
       "      <th>ticker</th>\n",
       "      <th>date</th>\n",
       "      <th>time</th>\n",
       "      <th>headline</th>\n",
       "      <th>neg</th>\n",
       "      <th>neu</th>\n",
       "      <th>pos</th>\n",
       "      <th>compound</th>\n",
       "    </tr>\n",
       "  </thead>\n",
       "  <tbody>\n",
       "    <tr>\n",
       "      <th>0</th>\n",
       "      <td>GOLD</td>\n",
       "      <td>2020-12-13</td>\n",
       "      <td>01:08AM</td>\n",
       "      <td>How Much Of Barrick Gold Corporation (TSE:ABX)...</td>\n",
       "      <td>0.000</td>\n",
       "      <td>1.000</td>\n",
       "      <td>0.000</td>\n",
       "      <td>0.0000</td>\n",
       "    </tr>\n",
       "    <tr>\n",
       "      <th>1</th>\n",
       "      <td>GOLD</td>\n",
       "      <td>2020-12-08</td>\n",
       "      <td>01:43PM</td>\n",
       "      <td>Gold Price Pans For A Bottom As Coronavirus Va...</td>\n",
       "      <td>0.000</td>\n",
       "      <td>1.000</td>\n",
       "      <td>0.000</td>\n",
       "      <td>0.0000</td>\n",
       "    </tr>\n",
       "    <tr>\n",
       "      <th>2</th>\n",
       "      <td>GOLD</td>\n",
       "      <td>2020-12-07</td>\n",
       "      <td>10:40PM</td>\n",
       "      <td>Why Shares of Barrick Gold Plunged 13% in Nove...</td>\n",
       "      <td>0.000</td>\n",
       "      <td>0.784</td>\n",
       "      <td>0.216</td>\n",
       "      <td>0.2960</td>\n",
       "    </tr>\n",
       "    <tr>\n",
       "      <th>3</th>\n",
       "      <td>GOLD</td>\n",
       "      <td>2020-12-07</td>\n",
       "      <td>10:49AM</td>\n",
       "      <td>Is Barrick (GOLD) A Good Stock To Buy Now?</td>\n",
       "      <td>0.000</td>\n",
       "      <td>0.707</td>\n",
       "      <td>0.293</td>\n",
       "      <td>0.4404</td>\n",
       "    </tr>\n",
       "    <tr>\n",
       "      <th>4</th>\n",
       "      <td>GOLD</td>\n",
       "      <td>2020-12-05</td>\n",
       "      <td>11:32AM</td>\n",
       "      <td>Why Is Barrick Gold (GOLD) Down 19.9% Since La...</td>\n",
       "      <td>0.000</td>\n",
       "      <td>1.000</td>\n",
       "      <td>0.000</td>\n",
       "      <td>0.0000</td>\n",
       "    </tr>\n",
       "    <tr>\n",
       "      <th>5</th>\n",
       "      <td>GOLD</td>\n",
       "      <td>2020-12-03</td>\n",
       "      <td>12:11AM</td>\n",
       "      <td>12 Best Silver Stocks to Buy Now</td>\n",
       "      <td>0.000</td>\n",
       "      <td>0.588</td>\n",
       "      <td>0.412</td>\n",
       "      <td>0.6369</td>\n",
       "    </tr>\n",
       "    <tr>\n",
       "      <th>6</th>\n",
       "      <td>GOLD</td>\n",
       "      <td>2020-12-01</td>\n",
       "      <td>12:44PM</td>\n",
       "      <td>A death cross is slowly forming in gold prices...</td>\n",
       "      <td>0.245</td>\n",
       "      <td>0.755</td>\n",
       "      <td>0.000</td>\n",
       "      <td>-0.5994</td>\n",
       "    </tr>\n",
       "    <tr>\n",
       "      <th>7</th>\n",
       "      <td>GOLD</td>\n",
       "      <td>2020-12-01</td>\n",
       "      <td>08:41AM</td>\n",
       "      <td>Rising Gold Prices Aid Royal Gold (RGLD) Amid ...</td>\n",
       "      <td>0.244</td>\n",
       "      <td>0.756</td>\n",
       "      <td>0.000</td>\n",
       "      <td>-0.4404</td>\n",
       "    </tr>\n",
       "    <tr>\n",
       "      <th>8</th>\n",
       "      <td>GOLD</td>\n",
       "      <td>2020-11-30</td>\n",
       "      <td>01:51PM</td>\n",
       "      <td>Loncor Reports Multiple Gold Intercepts in Fir...</td>\n",
       "      <td>0.000</td>\n",
       "      <td>0.896</td>\n",
       "      <td>0.104</td>\n",
       "      <td>0.1027</td>\n",
       "    </tr>\n",
       "    <tr>\n",
       "      <th>9</th>\n",
       "      <td>GOLD</td>\n",
       "      <td>2020-11-27</td>\n",
       "      <td>02:42PM</td>\n",
       "      <td>3 Dividend Gold Stocks</td>\n",
       "      <td>0.000</td>\n",
       "      <td>1.000</td>\n",
       "      <td>0.000</td>\n",
       "      <td>0.0000</td>\n",
       "    </tr>\n",
       "  </tbody>\n",
       "</table>\n",
       "</div>"
      ],
      "text/plain": [
       "  ticker        date     time  \\\n",
       "0   GOLD  2020-12-13  01:08AM   \n",
       "1   GOLD  2020-12-08  01:43PM   \n",
       "2   GOLD  2020-12-07  10:40PM   \n",
       "3   GOLD  2020-12-07  10:49AM   \n",
       "4   GOLD  2020-12-05  11:32AM   \n",
       "5   GOLD  2020-12-03  12:11AM   \n",
       "6   GOLD  2020-12-01  12:44PM   \n",
       "7   GOLD  2020-12-01  08:41AM   \n",
       "8   GOLD  2020-11-30  01:51PM   \n",
       "9   GOLD  2020-11-27  02:42PM   \n",
       "\n",
       "                                            headline    neg    neu    pos  \\\n",
       "0  How Much Of Barrick Gold Corporation (TSE:ABX)...  0.000  1.000  0.000   \n",
       "1  Gold Price Pans For A Bottom As Coronavirus Va...  0.000  1.000  0.000   \n",
       "2  Why Shares of Barrick Gold Plunged 13% in Nove...  0.000  0.784  0.216   \n",
       "3         Is Barrick (GOLD) A Good Stock To Buy Now?  0.000  0.707  0.293   \n",
       "4  Why Is Barrick Gold (GOLD) Down 19.9% Since La...  0.000  1.000  0.000   \n",
       "5                   12 Best Silver Stocks to Buy Now  0.000  0.588  0.412   \n",
       "6  A death cross is slowly forming in gold prices...  0.245  0.755  0.000   \n",
       "7  Rising Gold Prices Aid Royal Gold (RGLD) Amid ...  0.244  0.756  0.000   \n",
       "8  Loncor Reports Multiple Gold Intercepts in Fir...  0.000  0.896  0.104   \n",
       "9                             3 Dividend Gold Stocks  0.000  1.000  0.000   \n",
       "\n",
       "   compound  \n",
       "0    0.0000  \n",
       "1    0.0000  \n",
       "2    0.2960  \n",
       "3    0.4404  \n",
       "4    0.0000  \n",
       "5    0.6369  \n",
       "6   -0.5994  \n",
       "7   -0.4404  \n",
       "8    0.1027  \n",
       "9    0.0000  "
      ]
     },
     "execution_count": 6,
     "metadata": {},
     "output_type": "execute_result"
    }
   ],
   "source": [
    "vader = SentimentIntensityAnalyzer()\n",
    "columns = ['ticker', 'date', 'time', 'headline']\n",
    "parsed_and_scored_news = pd.DataFrame(parsed_news, columns=columns)\n",
    "scores = parsed_and_scored_news['headline'].apply(vader.polarity_scores).tolist()\n",
    "scores_df = pd.DataFrame(scores)\n",
    "parsed_and_scored_news = parsed_and_scored_news.join(scores_df, rsuffix='_right')\n",
    "parsed_and_scored_news['date'] = pd.to_datetime(parsed_and_scored_news.date).dt.date\n",
    "parsed_and_scored_news.head(10)"
   ]
  },
  {
   "cell_type": "markdown",
   "metadata": {},
   "source": [
    "### Trực quan kết quả phân tích tâm lí thị trường"
   ]
  },
  {
   "cell_type": "code",
   "execution_count": 7,
   "metadata": {},
   "outputs": [
    {
     "data": {
      "image/png": "[encoded data removed]",
      "text/plain": [
       "<Figure size 1080x432 with 1 Axes>"
      ]
     },
     "metadata": {
      "needs_background": "light"
     },
     "output_type": "display_data"
    }
   ],
   "source": [
    "plt.rcParams['figure.figsize'] = [15, 6]\n",
    "mean_scores = parsed_and_scored_news.groupby(['ticker','date']).mean()\n",
    "mean_scores = mean_scores.unstack()\n",
    "mean_scores = mean_scores.xs('compound', axis=\"columns\").transpose()\n",
    "mean_scores.plot(kind = 'bar',subplots=True)\n",
    "plt.grid()"
   ]
  }
 ],
 "metadata": {
  "kernelspec": {
   "display_name": "Python 3",
   "language": "python",
   "name": "python3"
  },
  "language_info": {
   "codemirror_mode": {
    "name": "ipython",
    "version": 3
   },
   "file_extension": ".py",
   "mimetype": "text/x-python",
   "name": "python",
   "nbconvert_exporter": "python",
   "pygments_lexer": "ipython3",
   "version": "3.8.3"
  }
 },
 "nbformat": 4,
 "nbformat_minor": 4
}
