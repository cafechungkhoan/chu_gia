{
  "nbformat": 4,
  "nbformat_minor": 0,
  "metadata": {
    "colab": {
      "name": "LYD_Comment_Sentiment_Analysis (1).ipynb",
      "provenance": [],
      "collapsed_sections": [],
      "include_colab_link": true
    },
    "kernelspec": {
      "display_name": "Python 3",
      "name": "python3"
    },
    "language_info": {
      "name": "python"
    }
  },
  "cells": [
    {
      "cell_type": "markdown",
      "metadata": {
        "id": "view-in-github",
        "colab_type": "text"
      },
      "source": [
        "<a href=\"https://colab.research.google.com/github/cafechungkhoan/chu_gia/blob/master/LYD_TextSummarizeDemo.ipynb\" target=\"_parent\"><img src=\"https://colab.research.google.com/assets/colab-badge.svg\" alt=\"Open In Colab\"/></a>"
      ]
    },
    {
      "cell_type": "code",
      "metadata": {
        "colab": {
          "base_uri": "https://localhost:8080/",
          "height": 926
        },
        "id": "UZsd_Qd5zWRj",
        "outputId": "a4b85ba9-8dce-4d54-8687-c725344d0709"
      },
      "source": [
        "pd.set_option('max_colwidth', -1)\n",
        "tin_don"
      ],
      "execution_count": null,
      "outputs": [
        {
          "output_type": "stream",
          "text": [
            "/usr/local/lib/python3.7/dist-packages/ipykernel_launcher.py:1: FutureWarning: Passing a negative integer is deprecated in version 1.0 and will not be supported in future version. Instead, use None to not limit the column width.\n",
            "  \"\"\"Entry point for launching an IPython kernel.\n"
          ],
          "name": "stderr"
        },
        {
          "output_type": "execute_result",
          "data": {
            "text/html": [
              "<div>\n",
              "<style scoped>\n",
              "    .dataframe tbody tr th:only-of-type {\n",
              "        vertical-align: middle;\n",
              "    }\n",
              "\n",
              "    .dataframe tbody tr th {\n",
              "        vertical-align: top;\n",
              "    }\n",
              "\n",
              "    .dataframe thead th {\n",
              "        text-align: right;\n",
              "    }\n",
              "</style>\n",
              "<table border=\"1\" class=\"dataframe\">\n",
              "  <thead>\n",
              "    <tr style=\"text-align: right;\">\n",
              "      <th></th>\n",
              "      <th>index</th>\n",
              "      <th>originalContent</th>\n",
              "      <th>Text Summarize</th>\n",
              "    </tr>\n",
              "  </thead>\n",
              "  <tbody>\n",
              "    <tr>\n",
              "      <th>0</th>\n",
              "      <td>3</td>\n",
              "      <td>NHẬN ĐỊNH THỊ TRƯỜNG NGÀY 18/8: CHỐT LỜI MẠNH KHI VỀ LẠI KHÁNG CỰC - THỊ TRƯỜNG CÒN TÍCH CỰC?\\nPhân tích dòng Bank hôm nay và góc nhìn dự đoán phiên tiếp theo\\n- HDB sau 4 cây dàn điểm thân nhỏ, rút chân tuy nhiên nến đuôi dài, có thể nắm giữ, kiên nhẫn đợi sẽ tích lũy trước\\n- VCB đầu phiên mở gap 102.8, bắt đầu phá mô hình thu hẹp, đường xu hướng tăng bền, loại mã trụ chỉ nên theo dõi đánh giá mã khác và tt chung sẽ tốt hơn tham gia vào mã này.\\n- STB lưu ý theo dõi vùng hỗ trợ 29.88\\n- OCB nay có mở gap lên cuối phiên bị đạp xuống, chưa có vol đột biến, mã tái tích lũy tại đỉnh sớm nhất trong dòng, nên nắm giữ\\n- ACB vol nhỏ chủ yếu hấp thụ đa phần nhỏ lẻ bán ra.\\n-------------------------------------\\nMời ac xem phân tích chi tiết tại đây\\nhttps://www.youtube.com/watch?v=RBh5vCB8E5U&amp;t=1000s</td>\n",
              "      <td>NHẬN ĐỊNH THỊ TRƯỜNG NGÀY 18/8: CHỐT LỜI MẠNH KHI VỀ LẠI KHÁNG CỰC - THỊ TRƯỜNG CÒN TÍCH CỰC? - STB lưu ý theo dõi vùng hỗ trợ 29.88\\n- OCB nay có mở gap lên cuối phiên bị đạp xuống, chưa có vol đột biến, mã tái tích lũy tại đỉnh sớm nhất trong dòng, nên nắm giữ\\n- ACB vol nhỏ chủ yếu hấp thụ đa phần nhỏ lẻ bán ra.</td>\n",
              "    </tr>\n",
              "    <tr>\n",
              "      <th>1</th>\n",
              "      <td>6</td>\n",
              "      <td>Con này bao h chuyển sàn hose ấy anh em nhỉ</td>\n",
              "      <td>Con này bao h chuyển sàn hose ấy anh em nhỉ</td>\n",
              "    </tr>\n",
              "    <tr>\n",
              "      <th>2</th>\n",
              "      <td>34</td>\n",
              "      <td>Quả úp bô đại pháp quá thần sầu đền từ tay to ShB</td>\n",
              "      <td>Quả úp bô đại pháp quá thần sầu đền từ tay to ShB</td>\n",
              "    </tr>\n",
              "    <tr>\n",
              "      <th>3</th>\n",
              "      <td>42</td>\n",
              "      <td>bác nào tay to xả 700k ghê vậy</td>\n",
              "      <td>bác nào tay to xả 700k ghê vậy</td>\n",
              "    </tr>\n",
              "    <tr>\n",
              "      <th>4</th>\n",
              "      <td>62</td>\n",
              "      <td>Hôm nay ngân hàng có SHB chuẩn bị phá nền chạy kèm theo nhiều thông tin tích cực sắp được public cũng như dòng tiền có tín hiệu quay lại nhóm bank từ hôm qua nên hôm nay có thể vào dần với SHB. Nhóm mía đường đang được hưởng lợi từ giá đường thế giới có xu hướng tăng mạnh trong thời gian tới sau khi break từ hôm 9/8, đến nay thì cổ phiếu ngành mía đường cũng đã có dòng tiền lớn vào, mọi người có thể canh nhịp chỉnh để mua và nhóm này nhiều cổ vẫn chưa tăng nhiều nên phải tranh thủ. Nếu không có \"biến\" gì xảy ra thì xu hướng giá đường vẫn tiếp tục tăng và cổ ngành này cũng sẽ tăng như những gì xảy ra với nhóm sắt thép, phân bón hay cảng biển khi giá sản phẩm, dịch vụ của nhóm tăng.</td>\n",
              "      <td>Hôm nay ngân hàng có SHB chuẩn bị phá nền chạy kèm theo nhiều thông tin tích cực sắp được public cũng như dòng tiền có tín hiệu quay lại nhóm bank từ hôm qua nên hôm nay có thể vào dần với SHB. Nhóm mía đường đang được hưởng lợi từ giá đường thế giới có xu hướng tăng mạnh trong thời gian tới sau khi break từ hôm 9/8, đến nay thì cổ phiếu ngành mía đường cũng đã có dòng tiền lớn vào, mọi người có thể canh nhịp chỉnh để mua và nhóm này nhiều cổ vẫn chưa tăng nhiều nên phải tranh thủ.</td>\n",
              "    </tr>\n",
              "    <tr>\n",
              "      <th>...</th>\n",
              "      <td>...</td>\n",
              "      <td>...</td>\n",
              "      <td>...</td>\n",
              "    </tr>\n",
              "    <tr>\n",
              "      <th>68</th>\n",
              "      <td>951</td>\n",
              "      <td>Dòng bank: Phiên hôm nay dòng tiền có vẻ yếu đi, nhiều mã giảm điểm. Dòng bank giai đoạn này không có thực sự nhiều tin tức hỗ trợ. Tuy nhiên có một số bank vẫn khá tốt.\\nMBB có thể cân nhắc chốt lời phiên mai\\n\\nCTG: volume tăng, giá không biến động theo volume. Với vùng nền cao hơn, CTG sẽ phải đi ngang thêm mới có thể có nhịp đánh lên\\n\\nBID: có lẽ phải tích lũy thêm 2, 3 phiên nữa mới kéo lên được\\n\\nVPB: nếu phiên mai có vẻ chững lại hoặc điều chỉnh thì có thể về lại vùng 58.69 rồi lên dần\\n\\nVCB: Hình thành mô hình hai đáy, tuy  chưa được kích hoạt nhưng vùng đáy đã được xác nhận \\n\\nSTB: kỳ vọng ngày mai đầu phiên tốt có thể lên 31.5\\n\\nSHB: liên quan đến đội lái nhiều, không thể dùng volume và nến phân tích được, có lẽ chưa thể đánh lên luôn được\\n\\nTCB: hàng rất tốt, tuy nhiên hàng kẹt nhiều, khó kéo lên luôn\\n-----------------------------------\\nTheo dõi video để biết thêm chiến lược chi tiết: https://www.youtube.com/watch?v=Pp2k0JmSpyM&amp;t=15s</td>\n",
              "      <td>Dòng bank: Phiên hôm nay dòng tiền có vẻ yếu đi, nhiều mã giảm điểm. Dòng bank giai đoạn này không có thực sự nhiều tin tức hỗ trợ.</td>\n",
              "    </tr>\n",
              "    <tr>\n",
              "      <th>69</th>\n",
              "      <td>983</td>\n",
              "      <td>khi nào chuyển sàn v anh em?\\n</td>\n",
              "      <td>khi nào chuyển sàn v anh em?</td>\n",
              "    </tr>\n",
              "    <tr>\n",
              "      <th>70</th>\n",
              "      <td>987</td>\n",
              "      <td>NHẬN ĐỊNH THỊ TRƯỜNG 4/8: TIẾP TỤC MỘT PHIÊN TĂNG ĐIỂM MẠNH, KÉO TRỤ VIC, VHM\\n-STB có 3 cây nến liên tục đóng trên ema21, thể hiện sự tôn trong ema21, dự đoán ngày mai tiếp tục đà tăng, tiếp tục giữ hàng\\n-SHB phiên hôm nay có dấu hiệu nhỏ lẻ bán ra, hầu hết hàng lái\\n-ABB tăng tích cực, bắt đầu chạy về nền, co thể tái tích lũy phiên tiếp theo\\n-TCB có thể điều chỉnh về 52-53\\n-MSB cần thời gian hấp thụ không thể lên được ngay\\n-------------------------------------\\nPhân tích dòng chứng khoán chi tiết\\nhttps://www.youtube.com/watch?v=fWE1rho9qxQ&amp;t=888s</td>\n",
              "      <td>NHẬN ĐỊNH THỊ TRƯỜNG 4/8: TIẾP TỤC MỘT PHIÊN TĂNG ĐIỂM MẠNH, KÉO TRỤ VIC, VHM\\n-STB có 3 cây nến liên tục đóng trên ema21, thể hiện sự tôn trong ema21, dự đoán ngày mai tiếp tục đà tăng, tiếp tục giữ hàng\\n-SHB phiên hôm nay có dấu hiệu nhỏ lẻ bán ra, hầu hết hàng lái\\n-ABB tăng tích cực, bắt đầu chạy về nền, co thể tái tích lũy phiên tiếp theo\\n-TCB có thể điều chỉnh về 52-53\\n-MSB cần thời gian hấp thụ không thể lên được ngay\\n-------------------------------------\\nPhân tích dòng chứng khoán chi tiết\\nhttps://www.youtube.com/watch?v=fWE1rho9qxQ&amp;t=888s</td>\n",
              "    </tr>\n",
              "    <tr>\n",
              "      <th>71</th>\n",
              "      <td>990</td>\n",
              "      <td>Bác Hiển xây nền chắc quá, đợt này đánh lên bao nhiêu tầng đây!!!</td>\n",
              "      <td>Bác Hiển xây nền chắc quá, đợt này đánh lên bao nhiêu tầng đây!!!</td>\n",
              "    </tr>\n",
              "    <tr>\n",
              "      <th>72</th>\n",
              "      <td>994</td>\n",
              "      <td>Nhìn bọn lái lợn quay tay tạo thanh khoản khắm thật ấy :D</td>\n",
              "      <td>None</td>\n",
              "    </tr>\n",
              "  </tbody>\n",
              "</table>\n",
              "<p>73 rows × 3 columns</p>\n",
              "</div>"
            ],
            "text/plain": [
              "    index  ...                                                                                                                                                                                                                                                                                                                                                                                                                                                                                                                                                                   Text Summarize\n",
              "0   3      ...  NHẬN ĐỊNH THỊ TRƯỜNG NGÀY 18/8: CHỐT LỜI MẠNH KHI VỀ LẠI KHÁNG CỰC - THỊ TRƯỜNG CÒN TÍCH CỰC? - STB lưu ý theo dõi vùng hỗ trợ 29.88\\n- OCB nay có mở gap lên cuối phiên bị đạp xuống, chưa có vol đột biến, mã tái tích lũy tại đỉnh sớm nhất trong dòng, nên nắm giữ\\n- ACB vol nhỏ chủ yếu hấp thụ đa phần nhỏ lẻ bán ra.                                                                                                                                                                                                                                                   \n",
              "1   6      ...  Con này bao h chuyển sàn hose ấy anh em nhỉ                                                                                                                                                                                                                                                                                                                                                                                                                                                                                                                                    \n",
              "2   34     ...  Quả úp bô đại pháp quá thần sầu đền từ tay to ShB                                                                                                                                                                                                                                                                                                                                                                                                                                                                                                                              \n",
              "3   42     ...  bác nào tay to xả 700k ghê vậy                                                                                                                                                                                                                                                                                                                                                                                                                                                                                                                                                 \n",
              "4   62     ...  Hôm nay ngân hàng có SHB chuẩn bị phá nền chạy kèm theo nhiều thông tin tích cực sắp được public cũng như dòng tiền có tín hiệu quay lại nhóm bank từ hôm qua nên hôm nay có thể vào dần với SHB. Nhóm mía đường đang được hưởng lợi từ giá đường thế giới có xu hướng tăng mạnh trong thời gian tới sau khi break từ hôm 9/8, đến nay thì cổ phiếu ngành mía đường cũng đã có dòng tiền lớn vào, mọi người có thể canh nhịp chỉnh để mua và nhóm này nhiều cổ vẫn chưa tăng nhiều nên phải tranh thủ.                                                                         \n",
              "..  ..     ...                                                                                                                                                                                                                                                                                                                                                                                                                                                                                                     ...                                                                         \n",
              "68  951    ...  Dòng bank: Phiên hôm nay dòng tiền có vẻ yếu đi, nhiều mã giảm điểm. Dòng bank giai đoạn này không có thực sự nhiều tin tức hỗ trợ.                                                                                                                                                                                                                                                                                                                                                                                                                                            \n",
              "69  983    ...  khi nào chuyển sàn v anh em?                                                                                                                                                                                                                                                                                                                                                                                                                                                                                                                                                   \n",
              "70  987    ...  NHẬN ĐỊNH THỊ TRƯỜNG 4/8: TIẾP TỤC MỘT PHIÊN TĂNG ĐIỂM MẠNH, KÉO TRỤ VIC, VHM\\n-STB có 3 cây nến liên tục đóng trên ema21, thể hiện sự tôn trong ema21, dự đoán ngày mai tiếp tục đà tăng, tiếp tục giữ hàng\\n-SHB phiên hôm nay có dấu hiệu nhỏ lẻ bán ra, hầu hết hàng lái\\n-ABB tăng tích cực, bắt đầu chạy về nền, co thể tái tích lũy phiên tiếp theo\\n-TCB có thể điều chỉnh về 52-53\\n-MSB cần thời gian hấp thụ không thể lên được ngay\\n-------------------------------------\\nPhân tích dòng chứng khoán chi tiết\\nhttps://www.youtube.com/watch?v=fWE1rho9qxQ&t=888s\n",
              "71  990    ...  Bác Hiển xây nền chắc quá, đợt này đánh lên bao nhiêu tầng đây!!!                                                                                                                                                                                                                                                                                                                                                                                                                                                                                                              \n",
              "72  994    ...  None                                                                                                                                                                                                                                                                                                                                                                                                                                                                                                                                                                           \n",
              "\n",
              "[73 rows x 3 columns]"
            ]
          },
          "metadata": {
            "tags": []
          },
          "execution_count": 42
        }
      ]
    },
    {
      "cell_type": "markdown",
      "metadata": {
        "id": "WXlfSjMSyGWe"
      },
      "source": [
        "### **Export chi tiết từng topic**"
      ]
    },
    {
      "cell_type": "code",
      "metadata": {
        "id": "fZEn1eD5ODV3"
      },
      "source": [
        "# co_ban = pd.DataFrame(co_ban['originalContent'])\n",
        "# from google.colab import files\n",
        "# co_ban.to_csv('filename.csv') \n",
        "# files.download('filename.csv')"
      ],
      "execution_count": null,
      "outputs": []
    },
    {
      "cell_type": "code",
      "metadata": {
        "id": "7VRh_W2EOPLm"
      },
      "source": [
        "# ki_thuat = pd.DataFrame(ki_thuat['originalContent'])"
      ],
      "execution_count": null,
      "outputs": []
    },
    {
      "cell_type": "code",
      "metadata": {
        "id": "QBr7HGZqO_3N"
      },
      "source": [
        "# vi_mo = pd.DataFrame(vi_mo['originalContent'])"
      ],
      "execution_count": null,
      "outputs": []
    },
    {
      "cell_type": "code",
      "metadata": {
        "id": "T780C9e8PIHO"
      },
      "source": [
        "# tin_don = pd.DataFrame(tin_don['originalContent'])"
      ],
      "execution_count": null,
      "outputs": []
    }
  ]
}