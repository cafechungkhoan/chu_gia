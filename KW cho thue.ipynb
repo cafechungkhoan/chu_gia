{
 "cells": [
  {
   "cell_type": "code",
   "execution_count": 4,
   "id": "9149b2bc-71cd-41db-bad4-7e323f9edacf",
   "metadata": {},
   "outputs": [],
   "source": [
    "# ------ >>>>> BINARY CLASSIFICATION FULL STACK <<<<< --------\n",
    "\n",
    "# ------------- data analysis and wrangling-------------------\n",
    "import pandas as pd\n",
    "import numpy as np\n",
    "import random as rnd\n",
    "from pandas import DataFrame\n",
    "import warnings\n",
    "warnings.filterwarnings(\"ignore\")\n",
    "#import shap\n",
    "# ------------------------------------------------------------\n",
    "\n",
    "# ------- import các tool visualization ----------------------\n",
    "import seaborn as sns\n",
    "import matplotlib.pyplot as plt\n",
    "%matplotlib inline\n",
    "# ------------------------------------------------------------\n"
   ]
  },
  {
   "cell_type": "code",
   "execution_count": 15,
   "id": "3b32a461-6817-4e4f-8e78-932ace495090",
   "metadata": {},
   "outputs": [
    {
     "data": {
      "text/html": [
       "<div>\n",
       "<style scoped>\n",
       "    .dataframe tbody tr th:only-of-type {\n",
       "        vertical-align: middle;\n",
       "    }\n",
       "\n",
       "    .dataframe tbody tr th {\n",
       "        vertical-align: top;\n",
       "    }\n",
       "\n",
       "    .dataframe thead th {\n",
       "        text-align: right;\n",
       "    }\n",
       "</style>\n",
       "<table border=\"1\" class=\"dataframe\">\n",
       "  <thead>\n",
       "    <tr style=\"text-align: right;\">\n",
       "      <th></th>\n",
       "      <th>Keyword</th>\n",
       "      <th>Currency</th>\n",
       "      <th>Avg. monthly searches</th>\n",
       "      <th>Thay đổi trong ba tháng</th>\n",
       "      <th>Thay đổi so với cùng kỳ năm trước</th>\n",
       "      <th>Competition</th>\n",
       "      <th>Competition (indexed value)</th>\n",
       "      <th>Top of page bid (low range)</th>\n",
       "      <th>Top of page bid (high range)</th>\n",
       "    </tr>\n",
       "  </thead>\n",
       "  <tbody>\n",
       "    <tr>\n",
       "      <th>0</th>\n",
       "      <td>thuê nhà tphcm</td>\n",
       "      <td>VND</td>\n",
       "      <td>500.0</td>\n",
       "      <td>0</td>\n",
       "      <td>0</td>\n",
       "      <td>Thấp</td>\n",
       "      <td>30.0</td>\n",
       "      <td>301.0</td>\n",
       "      <td>1948.0</td>\n",
       "    </tr>\n",
       "    <tr>\n",
       "      <th>1</th>\n",
       "      <td>thuê căn hộ tphcm</td>\n",
       "      <td>VND</td>\n",
       "      <td>500.0</td>\n",
       "      <td>9</td>\n",
       "      <td>0</td>\n",
       "      <td>Thấp</td>\n",
       "      <td>30.0</td>\n",
       "      <td>348.0</td>\n",
       "      <td>2755.0</td>\n",
       "    </tr>\n",
       "    <tr>\n",
       "      <th>2</th>\n",
       "      <td>phòng trọ quận 5</td>\n",
       "      <td>VND</td>\n",
       "      <td>5000.0</td>\n",
       "      <td>9</td>\n",
       "      <td>0</td>\n",
       "      <td>Thấp</td>\n",
       "      <td>24.0</td>\n",
       "      <td>306.0</td>\n",
       "      <td>1769.0</td>\n",
       "    </tr>\n",
       "    <tr>\n",
       "      <th>3</th>\n",
       "      <td>thuê chung cư giá rẻ tphcm</td>\n",
       "      <td>VND</td>\n",
       "      <td>500.0</td>\n",
       "      <td>0</td>\n",
       "      <td>0</td>\n",
       "      <td>Thấp</td>\n",
       "      <td>26.0</td>\n",
       "      <td>284.0</td>\n",
       "      <td>4217.0</td>\n",
       "    </tr>\n",
       "    <tr>\n",
       "      <th>4</th>\n",
       "      <td>thuê chung cư mini tphcm</td>\n",
       "      <td>VND</td>\n",
       "      <td>500.0</td>\n",
       "      <td>0</td>\n",
       "      <td>0</td>\n",
       "      <td>Thấp</td>\n",
       "      <td>22.0</td>\n",
       "      <td>265.0</td>\n",
       "      <td>1044.0</td>\n",
       "    </tr>\n",
       "    <tr>\n",
       "      <th>...</th>\n",
       "      <td>...</td>\n",
       "      <td>...</td>\n",
       "      <td>...</td>\n",
       "      <td>...</td>\n",
       "      <td>...</td>\n",
       "      <td>...</td>\n",
       "      <td>...</td>\n",
       "      <td>...</td>\n",
       "      <td>...</td>\n",
       "    </tr>\n",
       "    <tr>\n",
       "      <th>666</th>\n",
       "      <td>tìm nhà cho thuê ở tphcm</td>\n",
       "      <td>VND</td>\n",
       "      <td>50.0</td>\n",
       "      <td>0</td>\n",
       "      <td>-1</td>\n",
       "      <td>Không xác định</td>\n",
       "      <td>NaN</td>\n",
       "      <td>NaN</td>\n",
       "      <td>NaN</td>\n",
       "    </tr>\n",
       "    <tr>\n",
       "      <th>667</th>\n",
       "      <td>cho thuê nhà nguyên căn 3 phòng ngủ tphcm</td>\n",
       "      <td>VND</td>\n",
       "      <td>50.0</td>\n",
       "      <td>0</td>\n",
       "      <td>-1</td>\n",
       "      <td>Không xác định</td>\n",
       "      <td>NaN</td>\n",
       "      <td>NaN</td>\n",
       "      <td>NaN</td>\n",
       "    </tr>\n",
       "    <tr>\n",
       "      <th>668</th>\n",
       "      <td>cho thuê nhà đường âu cơ tphcm</td>\n",
       "      <td>VND</td>\n",
       "      <td>50.0</td>\n",
       "      <td>0</td>\n",
       "      <td>0</td>\n",
       "      <td>Không xác định</td>\n",
       "      <td>NaN</td>\n",
       "      <td>NaN</td>\n",
       "      <td>NaN</td>\n",
       "    </tr>\n",
       "    <tr>\n",
       "      <th>669</th>\n",
       "      <td>cho thuê phòng trọ quận 5 tphcm</td>\n",
       "      <td>VND</td>\n",
       "      <td>50.0</td>\n",
       "      <td>0</td>\n",
       "      <td>-1</td>\n",
       "      <td>Không xác định</td>\n",
       "      <td>NaN</td>\n",
       "      <td>NaN</td>\n",
       "      <td>NaN</td>\n",
       "    </tr>\n",
       "    <tr>\n",
       "      <th>670</th>\n",
       "      <td>nhà trọ sinh viên gần đại học sư phạm tphcm</td>\n",
       "      <td>VND</td>\n",
       "      <td>50.0</td>\n",
       "      <td>∞</td>\n",
       "      <td>0</td>\n",
       "      <td>Thấp</td>\n",
       "      <td>14.0</td>\n",
       "      <td>NaN</td>\n",
       "      <td>NaN</td>\n",
       "    </tr>\n",
       "  </tbody>\n",
       "</table>\n",
       "<p>671 rows × 9 columns</p>\n",
       "</div>"
      ],
      "text/plain": [
       "                                         Keyword Currency   \n",
       "0                                 thuê nhà tphcm      VND  \\\n",
       "1                              thuê căn hộ tphcm      VND   \n",
       "2                               phòng trọ quận 5      VND   \n",
       "3                     thuê chung cư giá rẻ tphcm      VND   \n",
       "4                       thuê chung cư mini tphcm      VND   \n",
       "..                                           ...      ...   \n",
       "666                     tìm nhà cho thuê ở tphcm      VND   \n",
       "667    cho thuê nhà nguyên căn 3 phòng ngủ tphcm      VND   \n",
       "668               cho thuê nhà đường âu cơ tphcm      VND   \n",
       "669              cho thuê phòng trọ quận 5 tphcm      VND   \n",
       "670  nhà trọ sinh viên gần đại học sư phạm tphcm      VND   \n",
       "\n",
       "     Avg. monthly searches Thay đổi trong ba tháng   \n",
       "0                    500.0                       0  \\\n",
       "1                    500.0                       9   \n",
       "2                   5000.0                       9   \n",
       "3                    500.0                       0   \n",
       "4                    500.0                       0   \n",
       "..                     ...                     ...   \n",
       "666                   50.0                       0   \n",
       "667                   50.0                       0   \n",
       "668                   50.0                       0   \n",
       "669                   50.0                       0   \n",
       "670                   50.0                       ∞   \n",
       "\n",
       "    Thay đổi so với cùng kỳ năm trước     Competition   \n",
       "0                                   0            Thấp  \\\n",
       "1                                   0            Thấp   \n",
       "2                                   0            Thấp   \n",
       "3                                   0            Thấp   \n",
       "4                                   0            Thấp   \n",
       "..                                ...             ...   \n",
       "666                                -1  Không xác định   \n",
       "667                                -1  Không xác định   \n",
       "668                                 0  Không xác định   \n",
       "669                                -1  Không xác định   \n",
       "670                                 0            Thấp   \n",
       "\n",
       "     Competition (indexed value)  Top of page bid (low range)   \n",
       "0                           30.0                        301.0  \\\n",
       "1                           30.0                        348.0   \n",
       "2                           24.0                        306.0   \n",
       "3                           26.0                        284.0   \n",
       "4                           22.0                        265.0   \n",
       "..                           ...                          ...   \n",
       "666                          NaN                          NaN   \n",
       "667                          NaN                          NaN   \n",
       "668                          NaN                          NaN   \n",
       "669                          NaN                          NaN   \n",
       "670                         14.0                          NaN   \n",
       "\n",
       "     Top of page bid (high range)  \n",
       "0                          1948.0  \n",
       "1                          2755.0  \n",
       "2                          1769.0  \n",
       "3                          4217.0  \n",
       "4                          1044.0  \n",
       "..                            ...  \n",
       "666                           NaN  \n",
       "667                           NaN  \n",
       "668                           NaN  \n",
       "669                           NaN  \n",
       "670                           NaN  \n",
       "\n",
       "[671 rows x 9 columns]"
      ]
     },
     "execution_count": 15,
     "metadata": {},
     "output_type": "execute_result"
    }
   ],
   "source": [
    "eda = pd.read_excel(r\"C:\\Công Việc\\PYTHON\\cho thuê nhà\\keyword cho thue nha tphcm.xlsx\")\n",
    "eda = pd.DataFrame(eda)\n",
    "eda"
   ]
  },
  {
   "cell_type": "code",
   "execution_count": 16,
   "id": "252cde10-928c-4888-b8fc-adef6e4786e0",
   "metadata": {},
   "outputs": [],
   "source": [
    "eda = eda.fillna(0)"
   ]
  },
  {
   "cell_type": "code",
   "execution_count": 29,
   "id": "4e42711f-4c61-4059-8801-5b86bec7e4e5",
   "metadata": {},
   "outputs": [
    {
     "name": "stdout",
     "output_type": "stream",
     "text": [
      "<class 'pandas.core.frame.DataFrame'>\n",
      "RangeIndex: 671 entries, 0 to 670\n",
      "Data columns (total 9 columns):\n",
      " #   Column                             Non-Null Count  Dtype  \n",
      "---  ------                             --------------  -----  \n",
      " 0   Keyword                            671 non-null    object \n",
      " 1   Currency                           671 non-null    object \n",
      " 2   Avg. monthly searches              671 non-null    float64\n",
      " 3   Thay đổi trong ba tháng            671 non-null    object \n",
      " 4   Thay đổi so với cùng kỳ năm trước  671 non-null    object \n",
      " 5   Competition                        671 non-null    object \n",
      " 6   Competition (indexed value)        671 non-null    float64\n",
      " 7   Top of page bid (low range)        671 non-null    float64\n",
      " 8   Top of page bid (high range)       671 non-null    float64\n",
      "dtypes: float64(4), object(5)\n",
      "memory usage: 47.3+ KB\n"
     ]
    }
   ],
   "source": [
    "eda.info()"
   ]
  },
  {
   "cell_type": "code",
   "execution_count": 24,
   "id": "47d94e6c-7906-4a61-bfde-068e6fe08ece",
   "metadata": {},
   "outputs": [
    {
     "data": {
      "text/plain": [
       "<Axes: xlabel='Top of page bid (low range)'>"
      ]
     },
     "execution_count": 24,
     "metadata": {},
     "output_type": "execute_result"
    },
    {
     "data": {
      "image/png": "[encoded data removed]",
      "text/plain": [
       "<Figure size 700x100 with 1 Axes>"
      ]
     },
     "metadata": {},
     "output_type": "display_data"
    }
   ],
   "source": [
    "plt.figure(figsize = (7,1))\n",
    "sns.boxplot(x=\"Top of page bid (low range)\", data=eda, width=0.5,showfliers=False)"
   ]
  },
  {
   "cell_type": "code",
   "execution_count": 26,
   "id": "01b0a3c8-45d1-4f81-b119-2ad2274348c1",
   "metadata": {},
   "outputs": [
    {
     "data": {
      "text/plain": [
       "<Axes: xlabel='Top of page bid (high range)'>"
      ]
     },
     "execution_count": 26,
     "metadata": {},
     "output_type": "execute_result"
    },
    {
     "data": {
      "image/png": "[encoded data removed]",
      "text/plain": [
       "<Figure size 700x100 with 1 Axes>"
      ]
     },
     "metadata": {},
     "output_type": "display_data"
    }
   ],
   "source": [
    "plt.figure(figsize = (7,1))\n",
    "sns.boxplot(x=\"Top of page bid (high range)\", data=eda, width=0.5,showfliers=False)"
   ]
  },
  {
   "cell_type": "code",
   "execution_count": 30,
   "id": "5807ec97-54cb-40a7-9574-98ad20b17f4d",
   "metadata": {},
   "outputs": [
    {
     "data": {
      "text/plain": [
       "<Axes: xlabel='Avg. monthly searches'>"
      ]
     },
     "execution_count": 30,
     "metadata": {},
     "output_type": "execute_result"
    },
    {
     "data": {
      "image/png": "[encoded data removed]",
      "text/plain": [
       "<Figure size 700x100 with 1 Axes>"
      ]
     },
     "metadata": {},
     "output_type": "display_data"
    }
   ],
   "source": [
    "plt.figure(figsize = (7,1))\n",
    "sns.boxplot(x=\"Avg. monthly searches\", data=eda, width=0.5)"
   ]
  },
  {
   "cell_type": "code",
   "execution_count": 34,
   "id": "8b14b660-cbd6-437b-a6a9-da3fa9837617",
   "metadata": {},
   "outputs": [
    {
     "data": {
      "text/plain": [
       "68300.0"
      ]
     },
     "execution_count": 34,
     "metadata": {},
     "output_type": "execute_result"
    }
   ],
   "source": [
    "eda['Avg. monthly searches'].sum()"
   ]
  },
  {
   "cell_type": "code",
   "execution_count": 31,
   "id": "0138c2c9-e648-4b0e-b1db-035f72499e6e",
   "metadata": {},
   "outputs": [
    {
     "data": {
      "text/plain": [
       "<Axes: xlabel='Competition (indexed value)'>"
      ]
     },
     "execution_count": 31,
     "metadata": {},
     "output_type": "execute_result"
    },
    {
     "data": {
      "image/png": "[encoded data removed]",
      "text/plain": [
       "<Figure size 700x100 with 1 Axes>"
      ]
     },
     "metadata": {},
     "output_type": "display_data"
    }
   ],
   "source": [
    "plt.figure(figsize = (7,1))\n",
    "sns.boxplot(x=\"Competition (indexed value)\", data=eda, width=0.5)"
   ]
  },
  {
   "cell_type": "code",
   "execution_count": null,
   "id": "c950c9ce-8b41-4858-8c2f-06b73ce686c5",
   "metadata": {},
   "outputs": [],
   "source": []
  }
 ],
 "metadata": {
  "kernelspec": {
   "display_name": "Python 3 (ipykernel)",
   "language": "python",
   "name": "python3"
  },
  "language_info": {
   "codemirror_mode": {
    "name": "ipython",
    "version": 3
   },
   "file_extension": ".py",
   "mimetype": "text/x-python",
   "name": "python",
   "nbconvert_exporter": "python",
   "pygments_lexer": "ipython3",
   "version": "3.10.9"
  }
 },
 "nbformat": 4,
 "nbformat_minor": 5
}
